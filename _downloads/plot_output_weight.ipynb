{
  "nbformat_minor": 0, 
  "nbformat": 4, 
  "cells": [
    {
      "execution_count": null, 
      "cell_type": "code", 
      "source": [
        "%matplotlib inline"
      ], 
      "outputs": [], 
      "metadata": {
        "collapsed": false
      }
    }, 
    {
      "source": [
        "\n# Demonstrating a use of weights in outputs with two sine functions\n\n\nEach row in the grid is a run of an earth model.\nEach column is an output.\nIn each run, different weights are given to\nthe outputs.\n\n"
      ], 
      "cell_type": "markdown", 
      "metadata": {}
    }, 
    {
      "execution_count": null, 
      "cell_type": "code", 
      "source": [
        "import numpy as np\nimport matplotlib.pyplot as plt\nfrom pyearth import Earth\n\n# Create some fake data\nnp.random.seed(2)\nm = 10000\nn = 10\nX = 80 * np.random.uniform(size=(m, n)) - 40\ny1 = 120 * np.abs(np.sin((X[:, 6]) / 6) - 1.0) + 15 * np.random.normal(size=m)\ny2 = 120 * np.abs(np.sin((X[:, 5]) / 6) - 1.0) + 15 * np.random.normal(size=m)\n\ny1 = (y1 - y1.mean()) / y1.std()\ny2 = (y2 - y2.mean()) / y2.std()\ny_mix = np.concatenate((y1[:, np.newaxis], y2[:, np.newaxis]), axis=1)\n\nalphas = [0.9, 0.8, 0.6, 0.4, 0.2, 0.1]\nn_plots = len(alphas)\nk = 1\nfig = plt.figure(figsize=(10, 15))\nfor i, alpha in enumerate(alphas):\n    # Fit an Earth model\n    model = Earth(max_degree=5,\n                  minspan_alpha=.05,\n                  endspan_alpha=.05,\n                  max_terms=10,\n                  check_every=1,\n                  thresh=0.)\n    output_weight = np.array([alpha, 1 - alpha])\n    model.fit(X, y_mix, output_weight=output_weight)\n    print(model.summary())\n\n    # Plot the model\n    y_hat = model.predict(X)\n\n    mse = ((y_hat - y_mix) ** 2).mean(axis=0)\n    ax = plt.subplot(n_plots, 2, k)\n    ax.set_ylabel(\"Run {0}\".format(i + 1), rotation=0, labelpad=20)\n    plt.plot(X[:, 6], y_mix[:, 0], 'r.')\n    plt.plot(X[:, 6], model.predict(X)[:, 0], 'b.')\n    plt.title(\"MSE: {0:.3f}, Weight : {1:.1f}\".format(mse[0], alpha))\n    plt.subplot(n_plots, 2, k + 1)\n    plt.plot(X[:, 5], y_mix[:, 1], 'r.')\n    plt.plot(X[:, 5], model.predict(X)[:, 1], 'b.')\n    plt.title(\"MSE: {0:.3f}, Weight : {1:.1f}\".format(mse[1], 1 - alpha))\n    k += 2\nplt.tight_layout()\nplt.show()"
      ], 
      "outputs": [], 
      "metadata": {
        "collapsed": false
      }
    }
  ], 
  "metadata": {
    "kernelspec": {
      "display_name": "Python 2", 
      "name": "python2", 
      "language": "python"
    }, 
    "language_info": {
      "mimetype": "text/x-python", 
      "nbconvert_exporter": "python", 
      "name": "python", 
      "file_extension": ".py", 
      "version": "2.7.11", 
      "pygments_lexer": "ipython2", 
      "codemirror_mode": {
        "version": 2, 
        "name": "ipython"
      }
    }
  }
}