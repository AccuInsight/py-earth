{
  "nbformat_minor": 0, 
  "nbformat": 4, 
  "cells": [
    {
      "execution_count": null, 
      "cell_type": "code", 
      "source": [
        "%matplotlib inline"
      ], 
      "outputs": [], 
      "metadata": {
        "collapsed": false
      }
    }, 
    {
      "source": [
        "\n# Plotting derivatives of simple sine function\n\n\nA simple example plotting a fit of the sine function and\nthe derivatives computed by Earth.\n"
      ], 
      "cell_type": "markdown", 
      "metadata": {}
    }, 
    {
      "execution_count": null, 
      "cell_type": "code", 
      "source": [
        "import numpy\nimport matplotlib.pyplot as plt\n\nfrom pyearth import Earth\n\n# Create some fake data\nnumpy.random.seed(2)\nm = 10000\nn = 10\nX = 20 * numpy.random.uniform(size=(m, n)) - 10\ny = 10*numpy.sin(X[:, 6]) + 0.25*numpy.random.normal(size=m)\n\n# Compute the known true derivative with respect to the predictive variable\ny_prime = 10*numpy.cos(X[:, 6])\n\n# Fit an Earth model\nmodel = Earth(max_degree=2, minspan_alpha=.5, smooth=True)\nmodel.fit(X, y)\n\n# Print the model\nprint(model.trace())\nprint(model.summary())\n\n# Get the predicted values and derivatives\ny_hat = model.predict(X)\ny_prime_hat = model.predict_deriv(X, 'x6')\n\n# Plot true and predicted function values and derivatives\n# for the predictive variable\nplt.subplot(211)\nplt.plot(X[:, 6], y, 'r.')\nplt.plot(X[:, 6], y_hat, 'b.')\nplt.ylabel('function')\nplt.subplot(212)\nplt.plot(X[:, 6], y_prime, 'r.')\nplt.plot(X[:, 6], y_prime_hat[:, 0], 'b.')\nplt.ylabel('derivative')\nplt.show()"
      ], 
      "outputs": [], 
      "metadata": {
        "collapsed": false
      }
    }
  ], 
  "metadata": {
    "kernelspec": {
      "display_name": "Python 2", 
      "name": "python2", 
      "language": "python"
    }, 
    "language_info": {
      "mimetype": "text/x-python", 
      "nbconvert_exporter": "python", 
      "name": "python", 
      "file_extension": ".py", 
      "version": "2.7.11", 
      "pygments_lexer": "ipython2", 
      "codemirror_mode": {
        "version": 2, 
        "name": "ipython"
      }
    }
  }
}