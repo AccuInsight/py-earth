{
  "nbformat_minor": 0, 
  "nbformat": 4, 
  "cells": [
    {
      "execution_count": null, 
      "cell_type": "code", 
      "source": [
        "%matplotlib inline"
      ], 
      "outputs": [], 
      "metadata": {
        "collapsed": false
      }
    }, 
    {
      "source": [
        "\n# Plotting a multicolumn regression problem that includes missingness\n\n\nAn example plotting a simultaneous fit of the sine and cosine functions.\nThere are two redundant predictors, each of which has independent and random\nmissingness.\n"
      ], 
      "cell_type": "markdown", 
      "metadata": {}
    }, 
    {
      "execution_count": null, 
      "cell_type": "code", 
      "source": [
        "import numpy\nimport matplotlib.pyplot as plt\n\nfrom pyearth import Earth\n\n# Create some fake data\nnumpy.random.seed(2)\nm = 10000\nn = 10\nX = 80 * numpy.random.uniform(size=(m, n)) - 40\nX[:, 5] = X[:, 6] + numpy.random.normal(0, .1, m)\ny1 = 100 * \\\n    (numpy.sin((X[:, 5] + X[:, 6]) / 20) - 4.0) + \\\n    10 * numpy.random.normal(size=m)\ny2 = 100 * \\\n    (numpy.cos((X[:, 5] + X[:, 6]) / 20) - 4.0) + \\\n    10 * numpy.random.normal(size=m)\ny = numpy.concatenate([y1[:, None], y2[:, None]], axis=1)\nmissing = numpy.random.binomial(1, .2, (m, n)).astype(bool)\nX_full = X.copy()\nX[missing] = None\nidx5 = (1 - missing[:, 5]).astype(bool)\nidx6 = (1 - missing[:, 6]).astype(bool)\n\n# Fit an Earth model\nmodel = Earth(max_degree=5, minspan_alpha=.5, allow_missing=True,\n              enable_pruning=True, thresh=.001, smooth=True,\n              verbose=True)\nmodel.fit(X, y)\n\n# Print the model\nprint(model.trace())\nprint(model.summary())\n\n# Plot the model\ny_hat = model.predict(X)\nfig = plt.figure()\n\nfor j in [0, 1]:\n    ax1 = fig.add_subplot(3, 4, 1 + 2*j)\n    ax1.plot(X_full[idx5, 5], y[idx5, j], 'b.')\n    ax1.plot(X_full[idx5, 5], y_hat[idx5, j], 'r.')\n    ax1.set_xlim(-40, 40)\n    ax1.set_title('x5 present')\n    ax1.set_xlabel('x5')\n    ax1.set_ylabel('sin' if j == 0 else 'cos')\n\n    ax2 = fig.add_subplot(3, 4, 2 + 2*j)\n    ax2.plot(X_full[idx6, 6], y[idx6, j], 'b.')\n    ax2.plot(X_full[idx6, 6], y_hat[idx6, j], 'r.')\n    ax2.set_xlim(-40, 40)\n    ax2.set_title('x6 present')\n    ax2.set_xlabel('x6')\n    ax2.set_ylabel('sin' if j == 0 else 'cos')\n\n    ax3 = fig.add_subplot(3, 4, 5 + 2*j, sharex=ax1)\n    ax3.plot(X_full[~idx6, 5], y[~idx6, j], 'b.')\n    ax3.plot(X_full[~idx6, 5], y_hat[~idx6, j], 'r.')\n    ax3.set_title('x6 missing')\n    ax3.set_xlabel('x5')\n    ax3.set_ylabel('sin' if j == 0 else 'cos')\n\n    ax4 = fig.add_subplot(3, 4, 6 + 2*j, sharex=ax2)\n    ax4.plot(X_full[~idx5, 6], y[~idx5, j], 'b.')\n    ax4.plot(X_full[~idx5, 6], y_hat[~idx5, j], 'r.')\n    ax4.set_title('x5 missing')\n    ax4.set_xlabel('x6')\n    ax4.set_ylabel('sin' if j == 0 else 'cos')\n\n    ax5 = fig.add_subplot(3, 4, 9 + 2*j, sharex=ax1)\n    ax5.plot(X_full[(~idx6) & (~idx5), 5], y[(~idx6) & (~idx5), j], 'b.')\n    ax5.plot(X_full[(~idx6) & (~idx5), 5], y_hat[(~idx6) & (~idx5), j], 'r.')\n    ax5.set_title('both missing')\n    ax5.set_xlabel('x5')\n    ax5.set_ylabel('sin' if j == 0 else 'cos')\n\n    ax6 = fig.add_subplot(3, 4, 10 + 2*j, sharex=ax2)\n    ax6.plot(X_full[(~idx6) & (~idx5), 6], y[(~idx6) & (~idx5), j], 'b.')\n    ax6.plot(X_full[(~idx6) & (~idx5), 6], y_hat[(~idx6) & (~idx5), j], 'r.')\n    ax6.set_title('both missing')\n    ax6.set_xlabel('x6')\n    ax6.set_ylabel('sin' if j == 0 else 'cos')\n\nfig.tight_layout()\nplt.show()"
      ], 
      "outputs": [], 
      "metadata": {
        "collapsed": false
      }
    }
  ], 
  "metadata": {
    "kernelspec": {
      "display_name": "Python 2", 
      "name": "python2", 
      "language": "python"
    }, 
    "language_info": {
      "mimetype": "text/x-python", 
      "nbconvert_exporter": "python", 
      "name": "python", 
      "file_extension": ".py", 
      "version": "2.7.11", 
      "pygments_lexer": "ipython2", 
      "codemirror_mode": {
        "version": 2, 
        "name": "ipython"
      }
    }
  }
}