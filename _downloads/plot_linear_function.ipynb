{
  "nbformat_minor": 0, 
  "nbformat": 4, 
  "cells": [
    {
      "execution_count": null, 
      "cell_type": "code", 
      "source": [
        "%matplotlib inline"
      ], 
      "outputs": [], 
      "metadata": {
        "collapsed": false
      }
    }, 
    {
      "source": [
        "\n# Plotting a linear function with a categorical variable\n\n\nFitting a pyearth model to a linear function shows that pyearth\nwill automatically  choose a linear basis function in some cases.\n"
      ], 
      "cell_type": "markdown", 
      "metadata": {}
    }, 
    {
      "execution_count": null, 
      "cell_type": "code", 
      "source": [
        "import numpy as np\nimport matplotlib.pyplot as plt\nfrom pyearth import Earth\n\nnp.random.seed(1)\nm = 1000\nn = 5\n\nX = np.random.normal(size=(m, n))\n\n# Make X[:,1] binary\nX[:, 1] = np.random.binomial(1, .5, size=m)\n\n# The response is a linear function of the inputs\ny = 2 * X[:, 0] + 3 * X[:, 1] + np.random.normal(size=m)\n\n# Fit the earth model\nmodel = Earth().fit(X, y)\n\n# Print the model summary, showing linear terms\nprint(model.summary())\n\n# Plot for both values of X[:,1]\ny_hat = model.predict(X)\nplt.figure()\nplt.plot(X[:, 0], y, 'k.')\nplt.plot(X[X[:, 1] == 0, 0], y_hat[X[:, 1] == 0], 'r.', label='$x_1 = 0$')\nplt.plot(X[X[:, 1] == 1, 0], y_hat[X[:, 1] == 1], 'b.', label='$x_1 = 1$')\nplt.legend(loc='best')\nplt.xlabel('$x_0$')\nplt.show()"
      ], 
      "outputs": [], 
      "metadata": {
        "collapsed": false
      }
    }
  ], 
  "metadata": {
    "kernelspec": {
      "display_name": "Python 2", 
      "name": "python2", 
      "language": "python"
    }, 
    "language_info": {
      "mimetype": "text/x-python", 
      "nbconvert_exporter": "python", 
      "name": "python", 
      "file_extension": ".py", 
      "version": "2.7.11", 
      "pygments_lexer": "ipython2", 
      "codemirror_mode": {
        "version": 2, 
        "name": "ipython"
      }
    }
  }
}