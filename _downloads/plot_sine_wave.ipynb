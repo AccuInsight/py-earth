{
  "nbformat_minor": 0, 
  "nbformat": 4, 
  "cells": [
    {
      "execution_count": null, 
      "cell_type": "code", 
      "source": [
        "%matplotlib inline"
      ], 
      "outputs": [], 
      "metadata": {
        "collapsed": false
      }
    }, 
    {
      "source": [
        "\n# Plotting simple sine function\n\n\nA simple example plotting a fit of the sine function.\n"
      ], 
      "cell_type": "markdown", 
      "metadata": {}
    }, 
    {
      "execution_count": null, 
      "cell_type": "code", 
      "source": [
        "import numpy\nimport matplotlib.pyplot as plt\n\nfrom pyearth import Earth\n\n# Create some fake data\nnumpy.random.seed(2)\nm = 10000\nn = 10\nX = 80 * numpy.random.uniform(size=(m, n)) - 40\ny = 100 * \\\n    (numpy.sin((X[:, 6])) - 4.0) + \\\n    10 * numpy.random.normal(size=m)\n\n# Fit an Earth model\nmodel = Earth(max_degree=3, minspan_alpha=.5, verbose=True)\nmodel.fit(X, y)\n\n# Print the model\nprint(model.trace())\nprint(model.summary())\n\n# Plot the model\ny_hat = model.predict(X)\nplt.plot(X[:, 6], y, 'r.')\nplt.plot(X[:, 6], y_hat, 'b.')\nplt.show()"
      ], 
      "outputs": [], 
      "metadata": {
        "collapsed": false
      }
    }
  ], 
  "metadata": {
    "kernelspec": {
      "display_name": "Python 2", 
      "name": "python2", 
      "language": "python"
    }, 
    "language_info": {
      "mimetype": "text/x-python", 
      "nbconvert_exporter": "python", 
      "name": "python", 
      "file_extension": ".py", 
      "version": "2.7.11", 
      "pygments_lexer": "ipython2", 
      "codemirror_mode": {
        "version": 2, 
        "name": "ipython"
      }
    }
  }
}