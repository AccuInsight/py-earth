{
  "nbformat_minor": 0, 
  "nbformat": 4, 
  "cells": [
    {
      "execution_count": null, 
      "cell_type": "code", 
      "source": [
        "%matplotlib inline"
      ], 
      "outputs": [], 
      "metadata": {
        "collapsed": false
      }
    }, 
    {
      "source": [
        "\n# Plotting sine function with redundant predictors an missing data\n\n\nAn example plotting a fit of the sine function.  There are two \nredundant predictors, each of which has independent and random\nmissingness.\n"
      ], 
      "cell_type": "markdown", 
      "metadata": {}
    }, 
    {
      "execution_count": null, 
      "cell_type": "code", 
      "source": [
        "import numpy\nimport matplotlib.pyplot as plt\n\nfrom pyearth import Earth\n\n# Create some fake data\nnumpy.random.seed(2)\nm = 10000\nn = 10\nX = 80 * numpy.random.uniform(size=(m, n)) - 40\nX[:, 5] = X[:, 6] + numpy.random.normal(0, .1, m)\ny = 100 * \\\n    (numpy.sin((X[:, 5] + X[:, 6]) / 20) - 4.0) + \\\n    10 * numpy.random.normal(size=m)\nmissing = numpy.random.binomial(1, .2, (m, n)).astype(bool)\nX_full = X.copy()\nX[missing] = None\nidx5 = (1 - missing[:, 5]).astype(bool)\nidx6 = (1 - missing[:, 6]).astype(bool)\n\n# Fit an Earth model\nmodel = Earth(max_degree=5, minspan_alpha=.5, allow_missing=True, \n              enable_pruning=True, thresh=1e-15, smooth=True)\nmodel.fit(X, y)\n\n# Print the model\nprint(model.trace())\nprint(model.summary())\n\n# Plot the model\ny_hat = model.predict(X)\nfig = plt.figure()\n\nax1 = fig.add_subplot(3, 2, 1)\nax1.plot(X_full[idx5, 5], y[idx5], 'b.')\nax1.plot(X_full[idx5, 5], y_hat[idx5], 'r.')\nax1.set_xlim(-40,40)\nax1.set_title('x5 present')\nax1.set_xlabel('x5')\n\nax2 = fig.add_subplot(3, 2, 2)\nax2.plot(X_full[idx6, 6], y[idx6], 'b.')\nax2.plot(X_full[idx6, 6], y_hat[idx6], 'r.')\nax2.set_xlim(-40,40)\nax2.set_title('x6 present')\nax2.set_xlabel('x6')\n\nax3 = fig.add_subplot(3, 2, 3, sharex=ax1)\nax3.plot(X_full[~idx6, 5], y[~idx6], 'b.')\nax3.plot(X_full[~idx6, 5], y_hat[~idx6], 'r.')\nax3.set_title('x6 missing')\nax3.set_xlabel('x5')\n\nax4 = fig.add_subplot(3, 2, 4, sharex=ax2)\nax4.plot(X_full[~idx5, 6], y[~idx5], 'b.')\nax4.plot(X_full[~idx5, 6], y_hat[~idx5], 'r.')\nax4.set_title('x5 missing')\nax4.set_xlabel('x6')\n\nax5 = fig.add_subplot(3, 2, 5,sharex=ax1)\nax5.plot(X_full[(~idx6) & (~idx5), 5], y[(~idx6) & (~idx5)], 'b.')\nax5.plot(X_full[(~idx6) & (~idx5), 5], y_hat[(~idx6) & (~idx5)], 'r.')\nax5.set_title('both missing')\nax5.set_xlabel('x5')\n\nax6 = fig.add_subplot(3, 2, 6, sharex=ax2)\nax6.plot(X_full[(~idx6) & (~idx5), 6], y[(~idx6) & (~idx5)], 'b.')\nax6.plot(X_full[(~idx6) & (~idx5), 6], y_hat[(~idx6) & (~idx5)], 'r.')\nax6.set_title('both missing')\nax6.set_xlabel('x6')\n\nfig.tight_layout()\nplt.show()"
      ], 
      "outputs": [], 
      "metadata": {
        "collapsed": false
      }
    }
  ], 
  "metadata": {
    "kernelspec": {
      "display_name": "Python 2", 
      "name": "python2", 
      "language": "python"
    }, 
    "language_info": {
      "mimetype": "text/x-python", 
      "nbconvert_exporter": "python", 
      "name": "python", 
      "file_extension": ".py", 
      "version": "2.7.11", 
      "pygments_lexer": "ipython2", 
      "codemirror_mode": {
        "version": 2, 
        "name": "ipython"
      }
    }
  }
}