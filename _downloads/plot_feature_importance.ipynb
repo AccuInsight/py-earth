{
  "nbformat_minor": 0, 
  "nbformat": 4, 
  "cells": [
    {
      "execution_count": null, 
      "cell_type": "code", 
      "source": [
        "%matplotlib inline"
      ], 
      "outputs": [], 
      "metadata": {
        "collapsed": false
      }
    }, 
    {
      "source": [
        "\n# Plotting feature importance\n\n\nA simple example showing how to compute and display\nfeature importances, it is also compared with the\nfeature importances obtained using random forests.\n\nFeature importance is a measure of the effect of the features\non the outputs. For each feature, the values go from\n0 to 1 where a higher the value means that the feature will have\na higher effect on the outputs.\n\nCurrently three criteria are supported : 'gcv', 'rss' and 'nb_subsets'.\nSee [1], section 12.3 for more information about the criteria.\n\n.. [1] http://www.milbo.org/doc/earth-notes.pdf\n\n"
      ], 
      "cell_type": "markdown", 
      "metadata": {}
    }, 
    {
      "execution_count": null, 
      "cell_type": "code", 
      "source": [
        "import numpy\nimport matplotlib.pyplot as plt\n\nfrom sklearn.ensemble import RandomForestRegressor\nfrom pyearth import Earth\n\n# Create some fake data\nnumpy.random.seed(2)\nm = 10000\nn = 10\n\nX = numpy.random.uniform(size=(m, n))\ny = (10 * numpy.sin(numpy.pi * X[:, 0] * X[:, 1]) +\n     20 * (X[:, 2] - 0.5) ** 2 +\n     10 * X[:, 3] +\n     5 * X[:, 4] + numpy.random.uniform(size=m))\n# Fit an Earth model\ncriteria = ('rss', 'gcv', 'nb_subsets')\nmodel = Earth(max_degree=3,\n              max_terms=10,\n              minspan_alpha=.5,\n              feature_importance_type=criteria,\n              verbose=True)\nmodel.fit(X, y)\nrf = RandomForestRegressor()\nrf.fit(X, y)\n# Print the model\nprint(model.trace())\nprint(model.summary())\nprint(model.summary_feature_importances(sort_by='gcv'))\n\n# Plot the feature importances\nimportances = model.feature_importances_\nimportances['random_forest'] = rf.feature_importances_\ncriteria = criteria + ('random_forest',)\nidx = 1\n\nfig = plt.figure(figsize=(20, 10))\nlabels = ['$x_{}$'.format(i) for i in range(n)]\nfor crit in criteria:\n    plt.subplot(2, 2, idx)\n    plt.bar(numpy.arange(len(labels)),\n            importances[crit],\n            align='center',\n            color='red')\n    plt.xticks(numpy.arange(len(labels)), labels)\n    plt.title(crit)\n    plt.ylabel('importances')\n    idx += 1\ntitle = '$x_0,...x_9 \\sim \\mathcal{N}(0, 1)$\\n$y= 10sin(\\pi x_{0}x_{1}) + 20(x_2 - 0.5)^2 + 10x_3 + 5x_4 + Unif(0, 1)$'\nfig.suptitle(title, fontsize=\"x-large\")\nplt.show()"
      ], 
      "outputs": [], 
      "metadata": {
        "collapsed": false
      }
    }
  ], 
  "metadata": {
    "kernelspec": {
      "display_name": "Python 2", 
      "name": "python2", 
      "language": "python"
    }, 
    "language_info": {
      "mimetype": "text/x-python", 
      "nbconvert_exporter": "python", 
      "name": "python", 
      "file_extension": ".py", 
      "version": "2.7.11", 
      "pygments_lexer": "ipython2", 
      "codemirror_mode": {
        "version": 2, 
        "name": "ipython"
      }
    }
  }
}